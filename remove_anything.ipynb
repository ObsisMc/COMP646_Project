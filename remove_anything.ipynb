{
 "cells": [
  {
   "cell_type": "code",
   "execution_count": 2,
   "metadata": {},
   "outputs": [],
   "source": [
    "from remove_anything.remove_anything_function import remove_anything"
   ]
  },
  {
   "cell_type": "code",
   "execution_count": 3,
   "metadata": {},
   "outputs": [
    {
     "data": {
      "text/plain": [
       "[(207, 379), (215, 375), (215, 266)]"
      ]
     },
     "execution_count": 3,
     "metadata": {},
     "output_type": "execute_result"
    }
   ],
   "source": [
    "# DOG\n",
    "input_img = \"./remove-anything/dog.jpg\"\n",
    "coords_type = \"key_in\"\n",
    "point_coords = [200, 450]  \n",
    "point_labels = [1]         \n",
    "dilate_kernel_size = 15\n",
    "output_dir = \"./results\"\n",
    "sam_model_type = \"vit_h\"\n",
    "sam_ckpt = \"./pretrained_models/sam_vit_h_4b8939.pth\"\n",
    "lama_config = \"./lama/configs/prediction/default.yaml\"\n",
    "lama_ckpt = \"./pretrained_models/big-lama\"\n",
    "\n",
    "masks = remove_anything(input_img, coords_type, point_coords, point_labels,\n",
    "                dilate_kernel_size, output_dir, sam_model_type, sam_ckpt,\n",
    "                lama_config, lama_ckpt)\n",
    "masks"
   ]
  },
  {
   "cell_type": "code",
   "execution_count": 4,
   "metadata": {},
   "outputs": [
    {
     "data": {
      "text/plain": [
       "[(633, 1123), (652, 1050), (653, 1050)]"
      ]
     },
     "execution_count": 4,
     "metadata": {},
     "output_type": "execute_result"
    }
   ],
   "source": [
    "# CAT\n",
    "input_img = \"./remove-anything/cat.jpg\"\n",
    "coords_type = \"key_in\"\n",
    "point_coords = [560, 1100]  \n",
    "point_labels = [1]         \n",
    "dilate_kernel_size = 15\n",
    "output_dir = \"./results\"\n",
    "sam_model_type = \"vit_h\"\n",
    "sam_ckpt = \"./pretrained_models/sam_vit_h_4b8939.pth\"\n",
    "lama_config = \"./lama/configs/prediction/default.yaml\"\n",
    "lama_ckpt = \"./pretrained_models/big-lama\"\n",
    "\n",
    "masks = remove_anything(input_img, coords_type, point_coords, point_labels,\n",
    "                dilate_kernel_size, output_dir, sam_model_type, sam_ckpt,\n",
    "                lama_config, lama_ckpt)\n",
    "masks"
   ]
  },
  {
   "cell_type": "code",
   "execution_count": 5,
   "metadata": {},
   "outputs": [
    {
     "data": {
      "text/plain": [
       "[(308, 547), (308, 560), (319, 567)]"
      ]
     },
     "execution_count": 5,
     "metadata": {},
     "output_type": "execute_result"
    }
   ],
   "source": [
    "# BOAT\n",
    "input_img = \"./remove-anything/boat.jpg\"\n",
    "coords_type = \"key_in\"\n",
    "point_coords = [300, 550]  \n",
    "point_labels = [1]         \n",
    "dilate_kernel_size = 15\n",
    "output_dir = \"./results\"\n",
    "sam_model_type = \"vit_h\"\n",
    "sam_ckpt = \"./pretrained_models/sam_vit_h_4b8939.pth\"\n",
    "lama_config = \"./lama/configs/prediction/default.yaml\"\n",
    "lama_ckpt = \"./pretrained_models/big-lama\"\n",
    "\n",
    "masks = remove_anything(input_img, coords_type, point_coords, point_labels,\n",
    "                dilate_kernel_size, output_dir, sam_model_type, sam_ckpt,\n",
    "                lama_config, lama_ckpt)\n",
    "masks"
   ]
  }
 ],
 "metadata": {
  "kernelspec": {
   "display_name": "COMP646",
   "language": "python",
   "name": "python3"
  },
  "language_info": {
   "codemirror_mode": {
    "name": "ipython",
    "version": 3
   },
   "file_extension": ".py",
   "mimetype": "text/x-python",
   "name": "python",
   "nbconvert_exporter": "python",
   "pygments_lexer": "ipython3",
   "version": "3.8.19"
  }
 },
 "nbformat": 4,
 "nbformat_minor": 2
}
